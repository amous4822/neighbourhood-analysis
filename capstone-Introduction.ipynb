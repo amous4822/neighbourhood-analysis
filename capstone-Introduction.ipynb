{
 "cells": [
  {
   "cell_type": "markdown",
   "metadata": {},
   "source": [
    "<h1 align=\"center\">Capstone Project</h1>"
   ]
  },
  {
   "cell_type": "markdown",
   "metadata": {},
   "source": [
    "## Introduction "
   ]
  },
  {
   "cell_type": "markdown",
   "metadata": {},
   "source": [
    "### Toronto\n",
    "\n",
    "Toronto, the capital of the province of Ontario, is a major Canadian city along Lake Ontario’s northwestern shore. It's a dynamic metropolis with a core of soaring skyscrapers with many green spaces of Queen’s Park and High Park. Toronto is the most populous city in Canada and the provincial capital of Ontario. Toronto has an estimated population of 2.81 million in 2016.\n",
    "\n",
    "### Toronto Demographics\n",
    "\n",
    "Foreign-born people account for nearly half of the population of Toronto. This gives Toronto the second-highest percentage of foreign-born residents of all world cities after Miami. Toronto has no dominant culture or nationality, which also makes it one of the world's most diverse cities.\n",
    "\n",
    "### Immigration Pattern\n",
    "\n",
    "According to the Canadian government, Toronto has the highest per capita immigration rate in the world.[46] Within Canada itself, 43% of all new immigrants to Canada settle in the Greater Toronto Area adding significantly to Toronto's population. According to the 2006 Census,[47] 45.7% of the residents of Toronto were immigrants. For the City of Toronto, the corresponding figure stood at 50.0%\n",
    "\n",
    "The City of Toronto ward with the highest percentage of total immigrants is Ward 41 Scarborough-Rouge River where 71.4% of the total population are immigrants.\n",
    "\n",
    "### Objective\n",
    "\n",
    "Since Toronto has proven to be one of the most liked places by immigrants to move into, in this project we will try to find the appropriate places which are safe to the newcomers, venues where they can buy residence, hangout safely with friends and feel at home.\n",
    "\n",
    "The projects targets the immigrants looking to move into Toronto but, have no idea about the neighborhood and venues that are safe to stay.\n",
    "\n",
    "The goal will be achieved by analyzing the data provided by Toronto Police Public Safety Portal to find the areas least affected by the crimes and then the Foursquare API will be used to analyze and plot relevant places, in various categories, around the safe neighborhood for the immigrants."
   ]
  }
 ],
 "metadata": {
  "kernelspec": {
   "display_name": "Python",
   "language": "python",
   "name": "conda-env-python-py"
  },
  "language_info": {
   "codemirror_mode": {
    "name": "ipython",
    "version": 3
   },
   "file_extension": ".py",
   "mimetype": "text/x-python",
   "name": "python",
   "nbconvert_exporter": "python",
   "pygments_lexer": "ipython3",
   "version": "3.6.7"
  }
 },
 "nbformat": 4,
 "nbformat_minor": 4
}
